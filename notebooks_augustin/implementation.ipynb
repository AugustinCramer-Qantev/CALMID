{
 "cells": [
  {
   "cell_type": "markdown",
   "metadata": {},
   "source": [
    "# first implementation, the goal will be to adapt so it fits to a river implementation."
   ]
  },
  {
   "cell_type": "markdown",
   "metadata": {},
   "source": [
    "Notes sur la lecture de l'article :\n",
    "- ce modèle complète d'autres modèles (ALMID -> CALMID)"
   ]
  },
  {
   "cell_type": "markdown",
   "metadata": {},
   "source": [
    "questions sur le papier (trouvable en allant voir les autres papiers)\n",
    "- utilisation du ADWIN (de ce que je vois, soit ils en font un soit ils font des updates avec 0 si bonne pred ou 1 si mauvaise pred) <-- ce que je fais pour l'instant\n",
    "- training en utilisant les weights --> comment ça marche ? réponse pour l'instant : tirer une poisson et entrainer x fois selon le résultat\n",
    "- quelle stratégie pour trouver le worst_clf ? jsp"
   ]
  },
  {
   "cell_type": "markdown",
   "metadata": {},
   "source": [
    "river implementation ideas\n",
    "- class inheritance for EnsembleClassifier"
   ]
  },
  {
   "cell_type": "code",
   "execution_count": 8,
   "metadata": {},
   "outputs": [],
   "source": [
    "import numpy as np\n",
    "from river import drift\n",
    "from river.tree import HoeffdingTreeClassifier\n",
    "from typing import List\n",
    "from river import datasets\n",
    "from tqdm import tqdm"
   ]
  },
  {
   "cell_type": "code",
   "execution_count": 9,
   "metadata": {},
   "outputs": [],
   "source": [
    "class LIFO:\n",
    "    \"\"\"simple Last In First Out queue\n",
    "    \"\"\"\n",
    "    def __init__(self, max_size: int):\n",
    "        self.max_size = max_size\n",
    "        self.queue = []\n",
    "        \n",
    "        \n",
    "    def __len__(self):\n",
    "        return len(self.queue)\n",
    "    \n",
    "\n",
    "    def add(self, item):\n",
    "        self.queue.append(item)\n",
    "        if len(self.queue) > self.max_size:\n",
    "            self.queue.pop(0)\n",
    "            \n",
    "            \n",
    "    def count(self, x):\n",
    "        return self.queue.count(x)"
   ]
  },
  {
   "cell_type": "code",
   "execution_count": 10,
   "metadata": {},
   "outputs": [],
   "source": [
    "class BaseClassifier(HoeffdingTreeClassifier):\n",
    "    \"\"\"Base classifier for the ensemble\n",
    "    Inspired by the implementation of CALMID paper\n",
    "    \"\"\"\n",
    "    def __init__(self, *args, **kwargs):\n",
    "        super().__init__(*args, **kwargs)"
   ]
  },
  {
   "cell_type": "code",
   "execution_count": 11,
   "metadata": {},
   "outputs": [],
   "source": [
    "class EnsembleClassifier:\n",
    "    def __init__(self, D, C) -> None:\n",
    "        self.D = D\n",
    "        self.C = C\n",
    "        # should we initialize it empty ? or with one ? or with D classifiers ?\n",
    "        # if full of classifiers, will there be a worst one ?\n",
    "        # paper github seems to initialize it with D classifier\n",
    "        self.classifiers: List[BaseClassifier] = [BaseClassifier() for _ in range(D)]\n",
    "        \n",
    "        \n",
    "    def learn_one(self, x, y, weight, decay_factor):\n",
    "        decayed_weight = decay_factor * weight\n",
    "        w = np.random.poisson(decayed_weight)\n",
    "        for _ in range(w):\n",
    "            [clf.learn_one(x, y) for clf in self.classifiers]\n",
    "        \n",
    "    def predict_one(self, x):\n",
    "        predictions = [clf.predict_one(x) for clf in self.classifiers]\n",
    "        return max(set(predictions), key = predictions.count)\n",
    "    \n",
    "    \n",
    "    def predict_proba_one(self, x):\n",
    "        predictions = [clf.predict_proba_one(x) for clf in self.classifiers]\n",
    "        try:\n",
    "            return np.mean(predictions, axis=0).tolist()\n",
    "        except:\n",
    "            return [1] + [0] * (self.C - 1) \n",
    "    \n",
    "        \n",
    "    def replace_worst_clf(self, new_base_clf, x, y):\n",
    "        worst_clf = self.get_worst_clf_index(x, y)\n",
    "        if worst_clf == len(self.classifiers):\n",
    "            self.classifiers.append(new_base_clf)\n",
    "        else:\n",
    "            self.classifiers[worst_clf] = new_base_clf\n",
    "            \n",
    "    \n",
    "    def get_worst_clf_index(self, x, y):\n",
    "        # TODO: how do we find which one is \"worst\"? last example ? we keep a trace ?\n",
    "        # method if \"last example\"\n",
    "        if len(self.classifiers) < self.D:\n",
    "            return len(self.classifiers)\n",
    "        else :\n",
    "            return np.argmin([clf.predict_proba_one(x)[y] for clf in self.classifiers])\n",
    "    "
   ]
  },
  {
   "cell_type": "code",
   "execution_count": 12,
   "metadata": {},
   "outputs": [],
   "source": [
    "class CALMID:\n",
    "    \n",
    "    def __init__(\n",
    "        self,\n",
    "        D: int,\n",
    "        C: int,\n",
    "        theta: float,\n",
    "        s,\n",
    "        epsilon: float,\n",
    "        b: float,\n",
    "        sizelab: int\n",
    "        ) -> None:\n",
    "        \"\"\"CALMID class constructor\"\"\"\n",
    "        # is it normal that we have to pass C ?\n",
    "        if b <= epsilon:\n",
    "            raise ValueError(\"b must be greater than epsilon\")\n",
    "        if not 0 <= epsilon <= 1:\n",
    "            raise ValueError(\"epsilon must be between 0 and 1\")\n",
    "        \n",
    "        self.D = D\n",
    "        self.C = C\n",
    "        self.theta = theta\n",
    "        self.s = s\n",
    "        self.epsilon = epsilon\n",
    "        self.b = b\n",
    "        self.sizelab = sizelab\n",
    "    \n",
    "        self.t=0\n",
    "        self.l=0\n",
    "        self.sizesam = int(sizelab*epsilon/C) # should be ceiled or floored ? --> they ceil it in the paper\n",
    "        \n",
    "        self.L = LIFO(max_size=self.sizelab)\n",
    "        self.P = [LIFO(max_size=self.sizesam) for _ in range(self.C)]\n",
    "        self.M = np.full((self.C, self.C), self.theta)\n",
    "        \n",
    "        self.E = EnsembleClassifier(self.D, self.C)\n",
    "        self.adwin = drift.ADWIN()\n",
    "        \n",
    "        \n",
    "    def learn_one(self, x, y): \n",
    "        self.t += 1\n",
    "        labelling = False\n",
    "        zeta = np.random.uniform(0, 1)\n",
    "        \n",
    "        if self.t<self.sizelab or zeta<self.epsilon:\n",
    "            self.L.add(y)\n",
    "            labelling = True\n",
    "        elif self.uncertainty_selective_strategy(x, y) and self.l/self.t < self.b:\n",
    "            self.L.add(None)\n",
    "            labelling = True\n",
    "        else:\n",
    "            self.L.add(None)\n",
    "        \n",
    "        if labelling:\n",
    "            self.l += 1\n",
    "            self.adwin.update(int(self.E.predict_one(x) == y))\n",
    "            w = self.compute_weight(x, y)\n",
    "            self.E.learn_one(x, y, w, self.t)\n",
    "            self.P[y].add((x, y, w, self.t))\n",
    "            \n",
    "            if self.adwin.drift_detected:\n",
    "                print(self.t, \"drift detected\")\n",
    "                new_base_clf = BaseClassifier()\n",
    "                self.initalize_base_classifiers(new_base_clf)\n",
    "                self.E.replace_worst_clf(new_base_clf, x, y)\n",
    "    \n",
    "    \n",
    "    def predict_one(self, x):\n",
    "        if self.E.classifiers:\n",
    "            return self.E.predict_one(x)\n",
    "        else:\n",
    "            return 0\n",
    "    \n",
    "    \n",
    "    def predict_proba_one(self, x):\n",
    "        return self.E.predict_proba_one(x)\n",
    "                \n",
    "                \n",
    "    def uncertainty_selective_strategy(self, x, y) -> bool:\n",
    "        labelling = False\n",
    "        margin, yc1, yc2 = self.compute_probability_margin_and_top_classes(x)\n",
    "        if margin <= self.M[yc1, yc2]:\n",
    "            labelling = True\n",
    "            imb_y = self.compute_imbalance(y)\n",
    "            if y == yc1:\n",
    "                self.M[yc1, yc2] *= (1-self.s)\n",
    "                if imb_y > 0.5:\n",
    "                    self.M[yc1, yc2] *= (1-self.s)\n",
    "            elif y == yc2 and imb_y > 0.5:\n",
    "                self.M[yc1, yc2] *= (1-self.s)\n",
    "        else:\n",
    "            sampbudget = self.b - self.l/self.t\n",
    "            q = margin - self.M[yc1, yc2]\n",
    "            sampbudget = sampbudget / (sampbudget + q)\n",
    "            zeta = np.random.uniform(0, 1)\n",
    "            if zeta < sampbudget:\n",
    "                labelling = True\n",
    "            if labelling and y == yc2:\n",
    "                self.M[yc1, yc2] = max([self.theta, self.M[yc1, yc2]*(1+self.s)])\n",
    "        return labelling\n",
    "    \n",
    "    \n",
    "    def compute_sample_difficulty(self, x, y) -> float:\n",
    "        margin, yc1, yc2 = self.compute_probability_margin_and_top_classes(x)\n",
    "        if yc1 == y:\n",
    "            tf, s = 1, 0\n",
    "        elif yc2 == y:\n",
    "            tf, s = -1, 1\n",
    "        else:\n",
    "            tf, s = -1, 0\n",
    "        return (1 - tf * margin) * np.exp(1 - tf - s)\n",
    "    \n",
    "    \n",
    "    def compute_weight(self, x, y) -> float:\n",
    "        imb_y = max(1, self.compute_imbalance(y)) # to avoid division by 0\n",
    "        return np.log(1 + self.compute_sample_difficulty(x, y) + 1/imb_y)\n",
    "    \n",
    "    \n",
    "    def compute_imbalance(self, y) -> float:\n",
    "        return self.L.count(y) / ((len(self.L) - self.L.count(None)) /self.C)\n",
    "    \n",
    "    \n",
    "    def compute_probability_margin_and_top_classes(self, x) -> float: \n",
    "        predictive_probas = self.E.predict_proba_one(x)\n",
    "        indexed_elements = list(enumerate(predictive_probas))\n",
    "        sorted_elements = sorted(indexed_elements, key=lambda x: x[1], reverse=True)\n",
    "        yc1, p_yc1 = sorted_elements[0]\n",
    "        yc2, p_yc2 = sorted_elements[1]\n",
    "        return p_yc1 - p_yc2, yc1, yc2\n",
    "    \n",
    "    \n",
    "    def initalize_base_classifiers(self, base_clf: BaseClassifier):\n",
    "        sample_sequence = []\n",
    "        for i in range(self.C):\n",
    "            for j in range(self.sizesam):\n",
    "                sample_sequence.add(self.P[i][j])\n",
    "        sorted_sample_sequence = sorted(sample_sequence, key=lambda x: x[3]) # sort by timestamp\n",
    "        for sample_x, sample_y, sample_weight, sample_arriving_time in sorted_sample_sequence:\n",
    "            base_clf.learn_one(sample_x, sample_y, sample_weight, self.compute_decay_factor(sample_arriving_time))\n",
    "            \n",
    "            \n",
    "    def compute_decay_factor(self, arriving_time):\n",
    "        return np.exp(-(self.t - arriving_time)/self.sizelab)\n",
    "        "
   ]
  },
  {
   "cell_type": "code",
   "execution_count": 13,
   "metadata": {},
   "outputs": [],
   "source": [
    "\n",
    "dataset = datasets.Insects(variant=\"incremental_imbalanced\")\n",
    "stream = iter(dataset)"
   ]
  },
  {
   "cell_type": "code",
   "execution_count": 18,
   "metadata": {},
   "outputs": [
    {
     "name": "stderr",
     "output_type": "stream",
     "text": [
      "5324it [13:30,  2.15it/s]"
     ]
    }
   ],
   "source": [
    "calmid = CALMID(\n",
    "    D=10,\n",
    "    C=6,\n",
    "    theta=0.4,\n",
    "    s=0.1,\n",
    "    epsilon=0.1,\n",
    "    b=0.4,\n",
    "    sizelab=600,\n",
    ")\n",
    "\n",
    "label_to_id = {}\n",
    "res = []\n",
    "for i, (x, y) in tqdm(enumerate(stream)):\n",
    "    if y not in label_to_id:\n",
    "        label_to_id[y] = len(label_to_id)\n",
    "    y = label_to_id[y]\n",
    "    y_hat = calmid.predict_one(x)\n",
    "    res.append(y_hat == y)\n",
    "    calmid.learn_one(x, y)"
   ]
  },
  {
   "cell_type": "code",
   "execution_count": 1,
   "metadata": {},
   "outputs": [
    {
     "ename": "NameError",
     "evalue": "name 'res' is not defined",
     "output_type": "error",
     "traceback": [
      "\u001b[0;31m---------------------------------------------------------------------------\u001b[0m",
      "\u001b[0;31mNameError\u001b[0m                                 Traceback (most recent call last)",
      "\u001b[1;32m/Users/acram/Desktop/VSCode_projects/data_stream/CALMID/implementation.ipynb Cell 12\u001b[0m line \u001b[0;36m2\n\u001b[1;32m      <a href='vscode-notebook-cell:/Users/acram/Desktop/VSCode_projects/data_stream/CALMID/implementation.ipynb#X14sZmlsZQ%3D%3D?line=0'>1</a>\u001b[0m \u001b[39mimport\u001b[39;00m \u001b[39mpandas\u001b[39;00m \u001b[39mas\u001b[39;00m \u001b[39mpd\u001b[39;00m\n\u001b[0;32m----> <a href='vscode-notebook-cell:/Users/acram/Desktop/VSCode_projects/data_stream/CALMID/implementation.ipynb#X14sZmlsZQ%3D%3D?line=1'>2</a>\u001b[0m pd\u001b[39m.\u001b[39mSeries(res)\u001b[39m.\u001b[39mrolling(\u001b[39m100\u001b[39m)\u001b[39m.\u001b[39mmean()\u001b[39m.\u001b[39mplot()\n",
      "\u001b[0;31mNameError\u001b[0m: name 'res' is not defined"
     ]
    }
   ],
   "source": [
    "import pandas as pd\n",
    "pd.Series(res).rolling(100).mean().plot()"
   ]
  },
  {
   "cell_type": "code",
   "execution_count": 17,
   "metadata": {},
   "outputs": [
    {
     "name": "stdout",
     "output_type": "stream",
     "text": [
      "Rolling [window=100,center=False,axis=0,method=single]\n"
     ]
    }
   ],
   "source": [
    "pd.Series(res).rolling(100)"
   ]
  },
  {
   "cell_type": "code",
   "execution_count": null,
   "metadata": {},
   "outputs": [],
   "source": []
  }
 ],
 "metadata": {
  "kernelspec": {
   "display_name": "ants",
   "language": "python",
   "name": "python3"
  },
  "language_info": {
   "codemirror_mode": {
    "name": "ipython",
    "version": 3
   },
   "file_extension": ".py",
   "mimetype": "text/x-python",
   "name": "python",
   "nbconvert_exporter": "python",
   "pygments_lexer": "ipython3",
   "version": "3.10.9"
  }
 },
 "nbformat": 4,
 "nbformat_minor": 2
}
