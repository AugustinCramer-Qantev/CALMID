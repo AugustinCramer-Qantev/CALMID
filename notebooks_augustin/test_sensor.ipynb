{
 "cells": [
  {
   "cell_type": "code",
   "execution_count": 4,
   "metadata": {},
   "outputs": [
    {
     "name": "stdout",
     "output_type": "stream",
     "text": [
      "/Users/acram/Desktop/VSCode_projects/data_stream/CALMID\n"
     ]
    }
   ],
   "source": [
    "cd .."
   ]
  },
  {
   "cell_type": "code",
   "execution_count": 5,
   "metadata": {},
   "outputs": [],
   "source": [
    "from scipy.io import arff\n",
    "from io import StringIO\n",
    "from tqdm import tqdm\n",
    "from calmid import CALMID\n",
    "import pandas as pd"
   ]
  },
  {
   "cell_type": "code",
   "execution_count": 6,
   "metadata": {},
   "outputs": [],
   "source": [
    "data, meta = arff.loadarff('datasets/sensor.arff')\n",
    "attrs = meta._attributes\n",
    "all_keys = attrs.keys()\n",
    "y_key = 'class'\n",
    "x_keys = [key for key in all_keys if key != y_key]"
   ]
  },
  {
   "cell_type": "code",
   "execution_count": 7,
   "metadata": {},
   "outputs": [
    {
     "name": "stderr",
     "output_type": "stream",
     "text": [
      "  0%|          | 376/2219803 [00:03<5:52:06, 105.05it/s]\n"
     ]
    },
    {
     "ename": "KeyboardInterrupt",
     "evalue": "",
     "output_type": "error",
     "traceback": [
      "\u001b[0;31m---------------------------------------------------------------------------\u001b[0m",
      "\u001b[0;31mKeyboardInterrupt\u001b[0m                         Traceback (most recent call last)",
      "\u001b[1;32m/Users/acram/Desktop/VSCode_projects/data_stream/CALMID/notebooks_augustin/test_sensor.ipynb Cell 4\u001b[0m line \u001b[0;36m7\n\u001b[1;32m      <a href='vscode-notebook-cell:/Users/acram/Desktop/VSCode_projects/data_stream/CALMID/notebooks_augustin/test_sensor.ipynb#W4sZmlsZQ%3D%3D?line=4'>5</a>\u001b[0m y \u001b[39m=\u001b[39m sample[\u001b[39m-\u001b[39m\u001b[39m1\u001b[39m]\u001b[39m.\u001b[39mdecode(\u001b[39m'\u001b[39m\u001b[39mutf-8\u001b[39m\u001b[39m'\u001b[39m)\n\u001b[1;32m      <a href='vscode-notebook-cell:/Users/acram/Desktop/VSCode_projects/data_stream/CALMID/notebooks_augustin/test_sensor.ipynb#W4sZmlsZQ%3D%3D?line=5'>6</a>\u001b[0m y_hat \u001b[39m=\u001b[39m calmid\u001b[39m.\u001b[39mpredict_one(x)\n\u001b[0;32m----> <a href='vscode-notebook-cell:/Users/acram/Desktop/VSCode_projects/data_stream/CALMID/notebooks_augustin/test_sensor.ipynb#W4sZmlsZQ%3D%3D?line=6'>7</a>\u001b[0m calmid\u001b[39m.\u001b[39;49mlearn_one(x, y)\n\u001b[1;32m      <a href='vscode-notebook-cell:/Users/acram/Desktop/VSCode_projects/data_stream/CALMID/notebooks_augustin/test_sensor.ipynb#W4sZmlsZQ%3D%3D?line=7'>8</a>\u001b[0m res\u001b[39m.\u001b[39mappend(y_hat \u001b[39m==\u001b[39m y)\n",
      "File \u001b[0;32m~/Desktop/VSCode_projects/data_stream/CALMID/calmid/calmid.py:130\u001b[0m, in \u001b[0;36mCALMID.learn_one\u001b[0;34m(self, x, y)\u001b[0m\n\u001b[1;32m    127\u001b[0m \u001b[39mself\u001b[39m\u001b[39m.\u001b[39mlearning_step \u001b[39m+\u001b[39m\u001b[39m=\u001b[39m \u001b[39m1\u001b[39m\n\u001b[1;32m    128\u001b[0m change_detected \u001b[39m=\u001b[39m \u001b[39mFalse\u001b[39;00m\n\u001b[0;32m--> 130\u001b[0m w \u001b[39m=\u001b[39m \u001b[39mself\u001b[39;49m\u001b[39m.\u001b[39;49mcompute_weight(x, y)\n\u001b[1;32m    132\u001b[0m \u001b[39mself\u001b[39m\u001b[39m.\u001b[39mlearning_queues[\u001b[39mself\u001b[39m\u001b[39m.\u001b[39mlabel_to_index[y]]\u001b[39m.\u001b[39madd(\n\u001b[1;32m    133\u001b[0m     (x, y, w, \u001b[39mself\u001b[39m\u001b[39m.\u001b[39mtime_step)\n\u001b[1;32m    134\u001b[0m )\n\u001b[1;32m    136\u001b[0m \u001b[39m# this is from river/ensemble/bagging.py\u001b[39;00m\n",
      "File \u001b[0;32m~/Desktop/VSCode_projects/data_stream/CALMID/calmid/calmid.py:219\u001b[0m, in \u001b[0;36mCALMID.compute_weight\u001b[0;34m(self, x, y)\u001b[0m\n\u001b[1;32m    217\u001b[0m \u001b[39mdef\u001b[39;00m \u001b[39mcompute_weight\u001b[39m(\u001b[39mself\u001b[39m, x, y) \u001b[39m-\u001b[39m\u001b[39m>\u001b[39m \u001b[39mfloat\u001b[39m:\n\u001b[1;32m    218\u001b[0m     imb_y \u001b[39m=\u001b[39m \u001b[39mmax\u001b[39m(\u001b[39m1\u001b[39m, \u001b[39mself\u001b[39m\u001b[39m.\u001b[39mcompute_imbalance(y))\n\u001b[0;32m--> 219\u001b[0m     \u001b[39mreturn\u001b[39;00m log(\u001b[39m1\u001b[39m \u001b[39m+\u001b[39m \u001b[39mself\u001b[39;49m\u001b[39m.\u001b[39;49mcompute_sample_difficulty(x, y) \u001b[39m+\u001b[39m \u001b[39m1\u001b[39m \u001b[39m/\u001b[39m imb_y)\n",
      "File \u001b[0;32m~/Desktop/VSCode_projects/data_stream/CALMID/calmid/calmid.py:208\u001b[0m, in \u001b[0;36mCALMID.compute_sample_difficulty\u001b[0;34m(self, x, y)\u001b[0m\n\u001b[1;32m    207\u001b[0m \u001b[39mdef\u001b[39;00m \u001b[39mcompute_sample_difficulty\u001b[39m(\u001b[39mself\u001b[39m, x, y) \u001b[39m-\u001b[39m\u001b[39m>\u001b[39m \u001b[39mfloat\u001b[39m:\n\u001b[0;32m--> 208\u001b[0m     margin, yc1, yc2 \u001b[39m=\u001b[39m \u001b[39mself\u001b[39;49m\u001b[39m.\u001b[39;49mcompute_probability_margin_and_top_classes(x)\n\u001b[1;32m    209\u001b[0m     \u001b[39mif\u001b[39;00m yc1 \u001b[39m==\u001b[39m y:\n\u001b[1;32m    210\u001b[0m         tf, s \u001b[39m=\u001b[39m \u001b[39m1\u001b[39m, \u001b[39m0\u001b[39m\n",
      "File \u001b[0;32m~/Desktop/VSCode_projects/data_stream/CALMID/calmid/calmid.py:230\u001b[0m, in \u001b[0;36mCALMID.compute_probability_margin_and_top_classes\u001b[0;34m(self, x)\u001b[0m\n\u001b[1;32m    228\u001b[0m \u001b[39mif\u001b[39;00m \u001b[39mself\u001b[39m\u001b[39m.\u001b[39mlearnt_classes \u001b[39m<\u001b[39m \u001b[39m2\u001b[39m:\n\u001b[1;32m    229\u001b[0m     \u001b[39mreturn\u001b[39;00m \u001b[39m0\u001b[39m, \u001b[39mNone\u001b[39;00m, \u001b[39mNone\u001b[39;00m\n\u001b[0;32m--> 230\u001b[0m predictive_probas \u001b[39m=\u001b[39m \u001b[39mself\u001b[39;49m\u001b[39m.\u001b[39;49mpredict_proba_one(x)\n\u001b[1;32m    231\u001b[0m sorted_elements \u001b[39m=\u001b[39m \u001b[39msorted\u001b[39m(\n\u001b[1;32m    232\u001b[0m     \u001b[39mlist\u001b[39m(predictive_probas\u001b[39m.\u001b[39mitems()), key\u001b[39m=\u001b[39m\u001b[39mlambda\u001b[39;00m x: x[\u001b[39m1\u001b[39m], reverse\u001b[39m=\u001b[39m\u001b[39mTrue\u001b[39;00m\n\u001b[1;32m    233\u001b[0m )\n\u001b[1;32m    234\u001b[0m yc1, p_yc1 \u001b[39m=\u001b[39m sorted_elements[\u001b[39m0\u001b[39m]\n",
      "File \u001b[0;32m~/Desktop/VSCode_projects/data_stream/CALMID/calmid/calmid.py:98\u001b[0m, in \u001b[0;36mCALMID.predict_proba_one\u001b[0;34m(self, x, **kwargs)\u001b[0m\n\u001b[1;32m     96\u001b[0m y_pred \u001b[39m=\u001b[39m collections\u001b[39m.\u001b[39mCounter()\n\u001b[1;32m     97\u001b[0m \u001b[39mfor\u001b[39;00m model \u001b[39min\u001b[39;00m \u001b[39mself\u001b[39m:\n\u001b[0;32m---> 98\u001b[0m     y_pred\u001b[39m.\u001b[39mupdate(model\u001b[39m.\u001b[39;49mpredict_proba_one(x, \u001b[39m*\u001b[39;49m\u001b[39m*\u001b[39;49mkwargs))\n\u001b[1;32m     99\u001b[0m total \u001b[39m=\u001b[39m \u001b[39msum\u001b[39m(y_pred\u001b[39m.\u001b[39mvalues())\n\u001b[1;32m    100\u001b[0m \u001b[39mif\u001b[39;00m total \u001b[39m>\u001b[39m \u001b[39m0\u001b[39m:\n",
      "File \u001b[0;32m~/micromamba/envs/ants/lib/python3.10/site-packages/river/tree/hoeffding_tree_classifier.py:421\u001b[0m, in \u001b[0;36mHoeffdingTreeClassifier.predict_proba_one\u001b[0;34m(self, x)\u001b[0m\n\u001b[1;32m    418\u001b[0m     \u001b[39melse\u001b[39;00m:\n\u001b[1;32m    419\u001b[0m         leaf \u001b[39m=\u001b[39m \u001b[39mself\u001b[39m\u001b[39m.\u001b[39m_root\n\u001b[0;32m--> 421\u001b[0m     proba\u001b[39m.\u001b[39mupdate(leaf\u001b[39m.\u001b[39;49mprediction(x, tree\u001b[39m=\u001b[39;49m\u001b[39mself\u001b[39;49m))\n\u001b[1;32m    422\u001b[0m \u001b[39mreturn\u001b[39;00m proba\n",
      "File \u001b[0;32m~/micromamba/envs/ants/lib/python3.10/site-packages/river/tree/nodes/htc_nodes.py:211\u001b[0m, in \u001b[0;36mLeafNaiveBayesAdaptive.prediction\u001b[0;34m(self, x, tree)\u001b[0m\n\u001b[1;32m    196\u001b[0m \u001b[39m\u001b[39m\u001b[39m\"\"\"Get the probabilities per class for a given instance.\u001b[39;00m\n\u001b[1;32m    197\u001b[0m \n\u001b[1;32m    198\u001b[0m \u001b[39mParameters\u001b[39;00m\n\u001b[0;32m   (...)\u001b[0m\n\u001b[1;32m    208\u001b[0m \n\u001b[1;32m    209\u001b[0m \u001b[39m\"\"\"\u001b[39;00m\n\u001b[1;32m    210\u001b[0m \u001b[39mif\u001b[39;00m \u001b[39mself\u001b[39m\u001b[39m.\u001b[39mis_active() \u001b[39mand\u001b[39;00m \u001b[39mself\u001b[39m\u001b[39m.\u001b[39m_nb_correct_weight \u001b[39m>\u001b[39m\u001b[39m=\u001b[39m \u001b[39mself\u001b[39m\u001b[39m.\u001b[39m_mc_correct_weight:\n\u001b[0;32m--> 211\u001b[0m     \u001b[39mreturn\u001b[39;00m do_naive_bayes_prediction(x, \u001b[39mself\u001b[39;49m\u001b[39m.\u001b[39;49mstats, \u001b[39mself\u001b[39;49m\u001b[39m.\u001b[39;49msplitters)\n\u001b[1;32m    212\u001b[0m \u001b[39melse\u001b[39;00m:\n\u001b[1;32m    213\u001b[0m     \u001b[39mreturn\u001b[39;00m \u001b[39msuper\u001b[39m()\u001b[39m.\u001b[39mprediction(x)\n",
      "File \u001b[0;32m~/micromamba/envs/ants/lib/python3.10/site-packages/river/tree/utils.py:57\u001b[0m, in \u001b[0;36mdo_naive_bayes_prediction\u001b[0;34m(x, observed_class_distribution, splitters)\u001b[0m\n\u001b[1;32m     55\u001b[0m             obs \u001b[39m=\u001b[39m splitters[att_idx]\n\u001b[1;32m     56\u001b[0m             \u001b[39m# Prior plus the log likelihood\u001b[39;00m\n\u001b[0;32m---> 57\u001b[0m             tmp \u001b[39m=\u001b[39m obs\u001b[39m.\u001b[39;49mcond_proba(x[att_idx], class_index)\n\u001b[1;32m     58\u001b[0m             votes[class_index] \u001b[39m+\u001b[39m\u001b[39m=\u001b[39m math\u001b[39m.\u001b[39mlog(tmp) \u001b[39mif\u001b[39;00m tmp \u001b[39m>\u001b[39m \u001b[39m0\u001b[39m \u001b[39melse\u001b[39;00m \u001b[39m0.0\u001b[39m\n\u001b[1;32m     60\u001b[0m \u001b[39m# Max log-likelihood\u001b[39;00m\n",
      "File \u001b[0;32m~/micromamba/envs/ants/lib/python3.10/site-packages/river/tree/splitter/gaussian_splitter.py:54\u001b[0m, in \u001b[0;36mGaussianSplitter.cond_proba\u001b[0;34m(self, att_val, target_val)\u001b[0m\n\u001b[1;32m     52\u001b[0m \u001b[39mif\u001b[39;00m target_val \u001b[39min\u001b[39;00m \u001b[39mself\u001b[39m\u001b[39m.\u001b[39m_att_dist_per_class:\n\u001b[1;32m     53\u001b[0m     obs \u001b[39m=\u001b[39m \u001b[39mself\u001b[39m\u001b[39m.\u001b[39m_att_dist_per_class[target_val]\n\u001b[0;32m---> 54\u001b[0m     \u001b[39mreturn\u001b[39;00m obs(att_val)\n\u001b[1;32m     55\u001b[0m \u001b[39melse\u001b[39;00m:\n\u001b[1;32m     56\u001b[0m     \u001b[39mreturn\u001b[39;00m \u001b[39m0.0\u001b[39m\n",
      "\u001b[0;31mKeyboardInterrupt\u001b[0m: "
     ]
    }
   ],
   "source": [
    "calmid = CALMID(n_classes=58)\n",
    "res = []\n",
    "for sample in tqdm(data):\n",
    "    x = {key: sample[i] for i, key in enumerate(x_keys)}\n",
    "    y = sample[-1].decode('utf-8')\n",
    "    y_hat = calmid.predict_one(x)\n",
    "    calmid.learn_one(x, y)\n",
    "    res.append(y_hat == y)"
   ]
  },
  {
   "cell_type": "code",
   "execution_count": null,
   "metadata": {},
   "outputs": [
    {
     "ename": "NameError",
     "evalue": "name 'pd' is not defined",
     "output_type": "error",
     "traceback": [
      "\u001b[0;31m---------------------------------------------------------------------------\u001b[0m",
      "\u001b[0;31mNameError\u001b[0m                                 Traceback (most recent call last)",
      "\u001b[1;32m/Users/acram/Desktop/VSCode_projects/data_stream/CALMID/notebooks_augustin/test_sensor.ipynb Cell 5\u001b[0m line \u001b[0;36m1\n\u001b[0;32m----> <a href='vscode-notebook-cell:/Users/acram/Desktop/VSCode_projects/data_stream/CALMID/notebooks_augustin/test_sensor.ipynb#W5sZmlsZQ%3D%3D?line=0'>1</a>\u001b[0m pd\u001b[39m.\u001b[39mSeries(res)\u001b[39m.\u001b[39mrolling(\u001b[39m1000\u001b[39m)\u001b[39m.\u001b[39mmean()\u001b[39m.\u001b[39mplot()\n",
      "\u001b[0;31mNameError\u001b[0m: name 'pd' is not defined"
     ]
    }
   ],
   "source": [
    "pd.Series(res).rolling(1000).mean().plot()"
   ]
  }
 ],
 "metadata": {
  "kernelspec": {
   "display_name": "ants",
   "language": "python",
   "name": "python3"
  },
  "language_info": {
   "codemirror_mode": {
    "name": "ipython",
    "version": 3
   },
   "file_extension": ".py",
   "mimetype": "text/x-python",
   "name": "python",
   "nbconvert_exporter": "python",
   "pygments_lexer": "ipython3",
   "version": "3.10.9"
  }
 },
 "nbformat": 4,
 "nbformat_minor": 2
}
