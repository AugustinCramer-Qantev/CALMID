{
 "cells": [
  {
   "cell_type": "markdown",
   "metadata": {},
   "source": [
    "# first implementation, the goal will be to adapt so it fits to a river implementation."
   ]
  },
  {
   "cell_type": "markdown",
   "metadata": {},
   "source": [
    "Notes sur la lecture de l'article :\n",
    "- ce modèle complète d'autres modèles (ALMID -> CALMID)"
   ]
  },
  {
   "cell_type": "markdown",
   "metadata": {},
   "source": [
    "questions sur le papier (trouvable en allant voir les autres papiers)\n",
    "- utilisation du ADWIN (de ce que je vois, soit ils en font un soit ils font des updates avec 0 si bonne pred ou 1 si mauvaise pred) <-- ce que je fais pour l'instant\n",
    "- training en utilisant les weights --> comment ça marche ? réponse pour l'instant : tirer une poisson et entrainer x fois selon le résultat\n",
    "- quelle stratégie pour trouver le worst_clf ? jsp"
   ]
  },
  {
   "cell_type": "markdown",
   "metadata": {},
   "source": [
    "river implementation ideas\n",
    "- class inheritance for EnsembleClassifier"
   ]
  },
  {
   "cell_type": "code",
   "execution_count": 5,
   "metadata": {},
   "outputs": [],
   "source": [
    "import numpy as np\n",
    "from river import drift\n",
    "from river.tree import HoeffdingTreeClassifier\n",
    "from typing import List\n",
    "from river import datasets\n",
    "from tqdm import tqdm\n",
    "from river import base"
   ]
  },
  {
   "cell_type": "code",
   "execution_count": 12,
   "metadata": {},
   "outputs": [],
   "source": [
    "class LIFO:\n",
    "    \"\"\"simple Last In First Out queue\n",
    "    \"\"\"\n",
    "    def __init__(self, max_size: int):\n",
    "        self.max_size = max_size\n",
    "        self.queue = []\n",
    "        \n",
    "        \n",
    "    def __len__(self):\n",
    "        return len(self.queue)\n",
    "    \n",
    "\n",
    "    def add(self, item):\n",
    "        self.queue.append(item)\n",
    "        if len(self.queue) > self.max_size:\n",
    "            self.queue.pop(0)\n",
    "            \n",
    "            \n",
    "    def count(self, x):\n",
    "        return self.queue.count(x)"
   ]
  },
  {
   "cell_type": "code",
   "execution_count": 13,
   "metadata": {},
   "outputs": [],
   "source": [
    "class CALMID(base.Classifier, base.Ensemble):\n",
    "    \n",
    "    def __init__(\n",
    "        self,\n",
    "        C: int,\n",
    "        theta: float,\n",
    "        s,\n",
    "        epsilon: float,\n",
    "        b: float,\n",
    "        sizelab: int,\n",
    "        classifiers: list[base.Classifier]\n",
    "        ) -> None:\n",
    "        \"\"\"CALMID class constructor\"\"\"\n",
    "        # is it normal that we have to pass C ?\n",
    "        if b <= epsilon:\n",
    "            raise ValueError(\"b must be greater than epsilon\")\n",
    "        if not 0 <= epsilon <= 1:\n",
    "            raise ValueError(\"epsilon must be between 0 and 1\")\n",
    "    \n",
    "        self.C = C\n",
    "        self.theta = theta\n",
    "        self.s = s\n",
    "        self.epsilon = epsilon\n",
    "        self.b = b\n",
    "        self.sizelab = sizelab\n",
    "    \n",
    "        self.t=0\n",
    "        self.l=0\n",
    "        self.sizesam = int(sizelab*epsilon/C) # should be ceiled or floored ? --> they ceil it in the paper\n",
    "        \n",
    "        self.L = LIFO(max_size=self.sizelab)\n",
    "        self.P = [LIFO(max_size=self.sizesam) for _ in range(self.C)]\n",
    "        self.M = np.full((self.C, self.C), self.theta)\n",
    "        \n",
    "        self.classifiers = classifiers\n",
    "        self.adwin = drift.ADWIN()\n",
    "        \n",
    "    def learn_one_ensemble(self, x, y, weight, decay_factor):\n",
    "        decayed_weight = decay_factor * weight\n",
    "        w = np.random.poisson(decayed_weight)\n",
    "        for _ in range(w):\n",
    "            [clf.learn_one(x, y) for clf in self.classifiers]\n",
    "        \n",
    "        \n",
    "    def learn_one(self, x, y): \n",
    "        self.t += 1\n",
    "        labelling = False\n",
    "        zeta = np.random.uniform(0, 1)\n",
    "        \n",
    "        if self.t<self.sizelab or zeta<self.epsilon:\n",
    "            self.L.add(y)\n",
    "            labelling = True\n",
    "        elif self.uncertainty_selective_strategy(x, y) and self.l/self.t < self.b:\n",
    "            self.L.add(None)\n",
    "            labelling = True\n",
    "        else:\n",
    "            self.L.add(None)\n",
    "        \n",
    "        if labelling:\n",
    "            self.l += 1\n",
    "            self.adwin.update(int(self.predict_one(x) == y))\n",
    "            w = self.compute_weight(x, y)\n",
    "            self.learn_one_ensemble(x, y, w, self.t)\n",
    "            self.P[y].add((x, y, w, self.t))\n",
    "            \n",
    "            if self.adwin.drift_detected:\n",
    "                print(self.t, \"drift detected\")\n",
    "                new_base_clf = BaseClassifier()\n",
    "                self.initalize_base_classifiers(new_base_clf)\n",
    "                self.replace_worst_clf(new_base_clf, x, y)\n",
    "    \n",
    "    \n",
    "        \n",
    "    def predict_one(self, x):\n",
    "        predictions = [clf.predict_one(x) for clf in self.classifiers]\n",
    "        return max(set(predictions), key = predictions.count)\n",
    "    \n",
    "    \n",
    "    def predict_proba_one(self, x):\n",
    "        predictions = [clf.predict_proba_one(x) for clf in self.classifiers]\n",
    "        try:\n",
    "            return np.mean(predictions, axis=0).tolist()\n",
    "        except:\n",
    "            return [1] + [0] * (self.C - 1) \n",
    "                \n",
    "                \n",
    "    def uncertainty_selective_strategy(self, x, y) -> bool:\n",
    "        labelling = False\n",
    "        margin, yc1, yc2 = self.compute_probability_margin_and_top_classes(x)\n",
    "        if margin <= self.M[yc1, yc2]:\n",
    "            labelling = True\n",
    "            imb_y = self.compute_imbalance(y)\n",
    "            if y == yc1:\n",
    "                self.M[yc1, yc2] *= (1-self.s)\n",
    "                if imb_y > 0.5:\n",
    "                    self.M[yc1, yc2] *= (1-self.s)\n",
    "            elif y == yc2 and imb_y > 0.5:\n",
    "                self.M[yc1, yc2] *= (1-self.s)\n",
    "        else:\n",
    "            sampbudget = self.b - self.l/self.t\n",
    "            q = margin - self.M[yc1, yc2]\n",
    "            sampbudget = sampbudget / (sampbudget + q)\n",
    "            zeta = np.random.uniform(0, 1)\n",
    "            if zeta < sampbudget:\n",
    "                labelling = True\n",
    "            if labelling and y == yc2:\n",
    "                self.M[yc1, yc2] = max([self.theta, self.M[yc1, yc2]*(1+self.s)])\n",
    "        return labelling\n",
    "    \n",
    "    \n",
    "    def compute_sample_difficulty(self, x, y) -> float:\n",
    "        margin, yc1, yc2 = self.compute_probability_margin_and_top_classes(x)\n",
    "        if yc1 == y:\n",
    "            tf, s = 1, 0\n",
    "        elif yc2 == y:\n",
    "            tf, s = -1, 1\n",
    "        else:\n",
    "            tf, s = -1, 0\n",
    "        return (1 - tf * margin) * np.exp(1 - tf - s)\n",
    "    \n",
    "    \n",
    "    def compute_weight(self, x, y) -> float:\n",
    "        imb_y = max(1, self.compute_imbalance(y)) # to avoid division by 0\n",
    "        return np.log(1 + self.compute_sample_difficulty(x, y) + 1/imb_y)\n",
    "    \n",
    "    \n",
    "    def compute_imbalance(self, y) -> float:\n",
    "        return self.L.count(y) / ((len(self.L) - self.L.count(None)) /self.C)\n",
    "    \n",
    "    \n",
    "    def compute_probability_margin_and_top_classes(self, x) -> float: \n",
    "        predictive_probas = self.predict_proba_one(x)\n",
    "        indexed_elements = list(enumerate(predictive_probas))\n",
    "        sorted_elements = sorted(indexed_elements, key=lambda x: x[1], reverse=True)\n",
    "        yc1, p_yc1 = sorted_elements[0]\n",
    "        yc2, p_yc2 = sorted_elements[1]\n",
    "        return p_yc1 - p_yc2, yc1, yc2\n",
    "    \n",
    "    \n",
    "    def initalize_base_classifiers(self, base_clf : base.Classifier):\n",
    "        sample_sequence = []\n",
    "        for i in range(self.C):\n",
    "            for j in range(self.sizesam):\n",
    "                sample_sequence.add(self.P[i][j])\n",
    "        sorted_sample_sequence = sorted(sample_sequence, key=lambda x: x[3]) # sort by timestamp\n",
    "        for sample_x, sample_y, sample_weight, sample_arriving_time in sorted_sample_sequence:\n",
    "            decayed_weight = self.compute_decay_factor(sample_arriving_time) * sample_weight\n",
    "            w = np.random.poisson(decayed_weight)\n",
    "            for _ in range(w):\n",
    "                base_clf.learn_one(sample_x, sample_y)\n",
    "            \n",
    "            \n",
    "    def compute_decay_factor(self, arriving_time):\n",
    "        return np.exp(-(self.t - arriving_time)/self.sizelab)\n",
    "    \n",
    "        \n",
    "    def replace_worst_clf(self, new_base_clf, x, y):\n",
    "        worst_clf = self.get_worst_clf_index(x, y)\n",
    "        if worst_clf == len(self.classifiers):\n",
    "            self.classifiers.append(new_base_clf)\n",
    "        else:\n",
    "            self.classifiers[worst_clf] = new_base_clf\n",
    "            \n",
    "    \n",
    "    def get_worst_clf_index(self, x, y):\n",
    "        # TODO: how do we find which one is \"worst\"? last example ? we keep a trace ?\n",
    "        # method if \"last example\"\n",
    "        if len(self.classifiers) < self.D:\n",
    "            return len(self.classifiers)\n",
    "        else :\n",
    "            return np.argmin([clf.predict_proba_one(x)[y] for clf in self.classifiers])\n",
    "        "
   ]
  },
  {
   "cell_type": "code",
   "execution_count": 14,
   "metadata": {},
   "outputs": [],
   "source": [
    "dataset = datasets.Insects(variant=\"incremental_imbalanced\")\n",
    "stream = iter(dataset)"
   ]
  },
  {
   "cell_type": "code",
   "execution_count": 15,
   "metadata": {},
   "outputs": [
    {
     "name": "stderr",
     "output_type": "stream",
     "text": [
      "\r\n",
      "0it [00:00, ?it/s]"
     ]
    },
    {
     "name": "stdout",
     "output_type": "stream",
     "text": [
      "Downloading http://sites.labic.icmc.usp.br/vsouza/repository/creme/INSECTS-incremental_imbalanced_norm.arff (133.52 MB)\n"
     ]
    },
    {
     "name": "stderr",
     "output_type": "stream",
     "text": [
      "0it [06:56, ?it/s]\n"
     ]
    },
    {
     "ename": "KeyboardInterrupt",
     "evalue": "",
     "output_type": "error",
     "traceback": [
      "\u001b[1;31m---------------------------------------------------------------------------\u001b[0m",
      "\u001b[1;31mKeyboardInterrupt\u001b[0m                         Traceback (most recent call last)",
      "Cell \u001b[1;32mIn[15], line 13\u001b[0m\n\u001b[0;32m     11\u001b[0m label_to_id \u001b[38;5;241m=\u001b[39m {}\n\u001b[0;32m     12\u001b[0m res \u001b[38;5;241m=\u001b[39m []\n\u001b[1;32m---> 13\u001b[0m \u001b[38;5;28;01mfor\u001b[39;00m i, (x, y) \u001b[38;5;129;01min\u001b[39;00m tqdm(\u001b[38;5;28menumerate\u001b[39m(stream)):\n\u001b[0;32m     14\u001b[0m     \u001b[38;5;28;01mif\u001b[39;00m y \u001b[38;5;129;01mnot\u001b[39;00m \u001b[38;5;129;01min\u001b[39;00m label_to_id:\n\u001b[0;32m     15\u001b[0m         label_to_id[y] \u001b[38;5;241m=\u001b[39m \u001b[38;5;28mlen\u001b[39m(label_to_id)\n",
      "File \u001b[1;32m~\\anaconda3\\Lib\\site-packages\\tqdm\\std.py:1178\u001b[0m, in \u001b[0;36mtqdm.__iter__\u001b[1;34m(self)\u001b[0m\n\u001b[0;32m   1175\u001b[0m time \u001b[38;5;241m=\u001b[39m \u001b[38;5;28mself\u001b[39m\u001b[38;5;241m.\u001b[39m_time\n\u001b[0;32m   1177\u001b[0m \u001b[38;5;28;01mtry\u001b[39;00m:\n\u001b[1;32m-> 1178\u001b[0m     \u001b[38;5;28;01mfor\u001b[39;00m obj \u001b[38;5;129;01min\u001b[39;00m iterable:\n\u001b[0;32m   1179\u001b[0m         \u001b[38;5;28;01myield\u001b[39;00m obj\n\u001b[0;32m   1180\u001b[0m         \u001b[38;5;66;03m# Update and possibly print the progressbar.\u001b[39;00m\n\u001b[0;32m   1181\u001b[0m         \u001b[38;5;66;03m# Note: does not call self.update(1) for speed optimisation.\u001b[39;00m\n",
      "File \u001b[1;32m~\\AppData\\Roaming\\Python\\Python311\\site-packages\\river\\datasets\\base.py:325\u001b[0m, in \u001b[0;36mRemoteDataset.__iter__\u001b[1;34m(self)\u001b[0m\n\u001b[0;32m    323\u001b[0m \u001b[38;5;28;01mdef\u001b[39;00m \u001b[38;5;21m__iter__\u001b[39m(\u001b[38;5;28mself\u001b[39m):\n\u001b[0;32m    324\u001b[0m     \u001b[38;5;28;01mif\u001b[39;00m \u001b[38;5;129;01mnot\u001b[39;00m \u001b[38;5;28mself\u001b[39m\u001b[38;5;241m.\u001b[39mis_downloaded:\n\u001b[1;32m--> 325\u001b[0m         \u001b[38;5;28mself\u001b[39m\u001b[38;5;241m.\u001b[39mdownload(verbose\u001b[38;5;241m=\u001b[39m\u001b[38;5;28;01mTrue\u001b[39;00m)\n\u001b[0;32m    326\u001b[0m     \u001b[38;5;28;01mif\u001b[39;00m \u001b[38;5;129;01mnot\u001b[39;00m \u001b[38;5;28mself\u001b[39m\u001b[38;5;241m.\u001b[39mis_downloaded:\n\u001b[0;32m    327\u001b[0m         \u001b[38;5;28;01mraise\u001b[39;00m \u001b[38;5;167;01mRuntimeError\u001b[39;00m(\u001b[38;5;124m\"\u001b[39m\u001b[38;5;124mSomething went wrong during the download\u001b[39m\u001b[38;5;124m\"\u001b[39m)\n",
      "File \u001b[1;32m~\\AppData\\Roaming\\Python\\Python311\\site-packages\\river\\datasets\\base.py:285\u001b[0m, in \u001b[0;36mRemoteDataset.download\u001b[1;34m(self, force, verbose)\u001b[0m\n\u001b[0;32m    283\u001b[0m     \u001b[38;5;66;03m# Now dump the contents of the requests\u001b[39;00m\n\u001b[0;32m    284\u001b[0m     \u001b[38;5;28;01mwith\u001b[39;00m \u001b[38;5;28mopen\u001b[39m(archive_path, \u001b[38;5;124m\"\u001b[39m\u001b[38;5;124mwb\u001b[39m\u001b[38;5;124m\"\u001b[39m) \u001b[38;5;28;01mas\u001b[39;00m f:\n\u001b[1;32m--> 285\u001b[0m         shutil\u001b[38;5;241m.\u001b[39mcopyfileobj(r, f)\n\u001b[0;32m    287\u001b[0m \u001b[38;5;28;01mif\u001b[39;00m \u001b[38;5;129;01mnot\u001b[39;00m \u001b[38;5;28mself\u001b[39m\u001b[38;5;241m.\u001b[39munpack:\n\u001b[0;32m    288\u001b[0m     \u001b[38;5;28;01mreturn\u001b[39;00m\n",
      "File \u001b[1;32m~\\anaconda3\\Lib\\shutil.py:197\u001b[0m, in \u001b[0;36mcopyfileobj\u001b[1;34m(fsrc, fdst, length)\u001b[0m\n\u001b[0;32m    195\u001b[0m fdst_write \u001b[38;5;241m=\u001b[39m fdst\u001b[38;5;241m.\u001b[39mwrite\n\u001b[0;32m    196\u001b[0m \u001b[38;5;28;01mwhile\u001b[39;00m \u001b[38;5;28;01mTrue\u001b[39;00m:\n\u001b[1;32m--> 197\u001b[0m     buf \u001b[38;5;241m=\u001b[39m fsrc_read(length)\n\u001b[0;32m    198\u001b[0m     \u001b[38;5;28;01mif\u001b[39;00m \u001b[38;5;129;01mnot\u001b[39;00m buf:\n\u001b[0;32m    199\u001b[0m         \u001b[38;5;28;01mbreak\u001b[39;00m\n",
      "File \u001b[1;32m~\\anaconda3\\Lib\\http\\client.py:466\u001b[0m, in \u001b[0;36mHTTPResponse.read\u001b[1;34m(self, amt)\u001b[0m\n\u001b[0;32m    463\u001b[0m \u001b[38;5;28;01mif\u001b[39;00m \u001b[38;5;28mself\u001b[39m\u001b[38;5;241m.\u001b[39mlength \u001b[38;5;129;01mis\u001b[39;00m \u001b[38;5;129;01mnot\u001b[39;00m \u001b[38;5;28;01mNone\u001b[39;00m \u001b[38;5;129;01mand\u001b[39;00m amt \u001b[38;5;241m>\u001b[39m \u001b[38;5;28mself\u001b[39m\u001b[38;5;241m.\u001b[39mlength:\n\u001b[0;32m    464\u001b[0m     \u001b[38;5;66;03m# clip the read to the \"end of response\"\u001b[39;00m\n\u001b[0;32m    465\u001b[0m     amt \u001b[38;5;241m=\u001b[39m \u001b[38;5;28mself\u001b[39m\u001b[38;5;241m.\u001b[39mlength\n\u001b[1;32m--> 466\u001b[0m s \u001b[38;5;241m=\u001b[39m \u001b[38;5;28mself\u001b[39m\u001b[38;5;241m.\u001b[39mfp\u001b[38;5;241m.\u001b[39mread(amt)\n\u001b[0;32m    467\u001b[0m \u001b[38;5;28;01mif\u001b[39;00m \u001b[38;5;129;01mnot\u001b[39;00m s \u001b[38;5;129;01mand\u001b[39;00m amt:\n\u001b[0;32m    468\u001b[0m     \u001b[38;5;66;03m# Ideally, we would raise IncompleteRead if the content-length\u001b[39;00m\n\u001b[0;32m    469\u001b[0m     \u001b[38;5;66;03m# wasn't satisfied, but it might break compatibility.\u001b[39;00m\n\u001b[0;32m    470\u001b[0m     \u001b[38;5;28mself\u001b[39m\u001b[38;5;241m.\u001b[39m_close_conn()\n",
      "File \u001b[1;32m~\\anaconda3\\Lib\\socket.py:706\u001b[0m, in \u001b[0;36mSocketIO.readinto\u001b[1;34m(self, b)\u001b[0m\n\u001b[0;32m    704\u001b[0m \u001b[38;5;28;01mwhile\u001b[39;00m \u001b[38;5;28;01mTrue\u001b[39;00m:\n\u001b[0;32m    705\u001b[0m     \u001b[38;5;28;01mtry\u001b[39;00m:\n\u001b[1;32m--> 706\u001b[0m         \u001b[38;5;28;01mreturn\u001b[39;00m \u001b[38;5;28mself\u001b[39m\u001b[38;5;241m.\u001b[39m_sock\u001b[38;5;241m.\u001b[39mrecv_into(b)\n\u001b[0;32m    707\u001b[0m     \u001b[38;5;28;01mexcept\u001b[39;00m timeout:\n\u001b[0;32m    708\u001b[0m         \u001b[38;5;28mself\u001b[39m\u001b[38;5;241m.\u001b[39m_timeout_occurred \u001b[38;5;241m=\u001b[39m \u001b[38;5;28;01mTrue\u001b[39;00m\n",
      "\u001b[1;31mKeyboardInterrupt\u001b[0m: "
     ]
    }
   ],
   "source": [
    "calmid = CALMID(\n",
    "    C=6,\n",
    "    theta=0.4,\n",
    "    s=0.1,\n",
    "    epsilon=0.1,\n",
    "    b=0.4,\n",
    "    sizelab=600,\n",
    "    classifiers = [HoeffdingTreeClassifier() for _ in range(10)]\n",
    ")\n",
    "\n",
    "label_to_id = {}\n",
    "res = []\n",
    "for i, (x, y) in tqdm(enumerate(stream)):\n",
    "    if y not in label_to_id:\n",
    "        label_to_id[y] = len(label_to_id)\n",
    "    y = label_to_id[y]\n",
    "    y_hat = calmid.predict_one(x)\n",
    "    res.append(y_hat == y)\n",
    "    calmid.learn_one(x, y)"
   ]
  },
  {
   "cell_type": "code",
   "execution_count": 1,
   "metadata": {},
   "outputs": [
    {
     "ename": "NameError",
     "evalue": "name 'res' is not defined",
     "output_type": "error",
     "traceback": [
      "\u001b[0;31m---------------------------------------------------------------------------\u001b[0m",
      "\u001b[0;31mNameError\u001b[0m                                 Traceback (most recent call last)",
      "\u001b[1;32m/Users/acram/Desktop/VSCode_projects/data_stream/CALMID/implementation.ipynb Cell 12\u001b[0m line \u001b[0;36m2\n\u001b[1;32m      <a href='vscode-notebook-cell:/Users/acram/Desktop/VSCode_projects/data_stream/CALMID/implementation.ipynb#X14sZmlsZQ%3D%3D?line=0'>1</a>\u001b[0m \u001b[39mimport\u001b[39;00m \u001b[39mpandas\u001b[39;00m \u001b[39mas\u001b[39;00m \u001b[39mpd\u001b[39;00m\n\u001b[0;32m----> <a href='vscode-notebook-cell:/Users/acram/Desktop/VSCode_projects/data_stream/CALMID/implementation.ipynb#X14sZmlsZQ%3D%3D?line=1'>2</a>\u001b[0m pd\u001b[39m.\u001b[39mSeries(res)\u001b[39m.\u001b[39mrolling(\u001b[39m100\u001b[39m)\u001b[39m.\u001b[39mmean()\u001b[39m.\u001b[39mplot()\n",
      "\u001b[0;31mNameError\u001b[0m: name 'res' is not defined"
     ]
    }
   ],
   "source": [
    "import pandas as pd\n",
    "pd.Series(res).rolling(100).mean().plot()"
   ]
  },
  {
   "cell_type": "code",
   "execution_count": 17,
   "metadata": {},
   "outputs": [
    {
     "name": "stdout",
     "output_type": "stream",
     "text": [
      "Rolling [window=100,center=False,axis=0,method=single]\n"
     ]
    }
   ],
   "source": [
    "pd.Series(res).rolling(100)"
   ]
  },
  {
   "cell_type": "code",
   "execution_count": null,
   "metadata": {},
   "outputs": [],
   "source": []
  }
 ],
 "metadata": {
  "kernelspec": {
   "display_name": "Python 3 (ipykernel)",
   "language": "python",
   "name": "python3"
  },
  "language_info": {
   "codemirror_mode": {
    "name": "ipython",
    "version": 3
   },
   "file_extension": ".py",
   "mimetype": "text/x-python",
   "name": "python",
   "nbconvert_exporter": "python",
   "pygments_lexer": "ipython3",
   "version": "3.11.4"
  }
 },
 "nbformat": 4,
 "nbformat_minor": 2
}
